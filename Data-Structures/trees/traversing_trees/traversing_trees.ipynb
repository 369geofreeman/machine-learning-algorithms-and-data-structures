{
 "cells": [
  {
   "cell_type": "markdown",
   "metadata": {},
   "source": [
    "# Tree Traversals\n",
    "\n",
    "In this notebook we will look at the four different ways to traverse trees, **Inorder**, **Preorder**, **Postorder** and **Level Order**.\n",
    "\n",
    "**Depth First Traversals**:\n",
    "- [**Inorder**](#inorder)\n",
    "- [**Preorder**](#preorder)\n",
    "- [**Postorder**](#postorder)\n",
    "\n",
    "**Breadth First Traversal**:\n",
    "- [**Level Order**](#level-order)\n",
    "\n",
    "\n",
    "Trees are non-linear data structures (which might include Array, Linked List, Queues, Stacks, etc), and because of this there is generally more than one way to traverse them. Using **Depth First** to traverse the tree gives us the three options **Inorder**, **Preorder** and **Postorder**. And using **Breadth First** we can apply **Level Order** which we will explore below."
   ]
  },
  {
   "cell_type": "markdown",
   "metadata": {},
   "source": [
    "# Depth First Traversals\n",
    "\n",
    "<img src=\"tree.gif\" alt=\" \" width=\"300\"/> "
   ]
  },
  {
   "cell_type": "markdown",
   "metadata": {},
   "source": [
    "## Inorder\n",
    "\n",
    "From the image above, **Inorder** traversal can be seen as going (Left, Root, Right), which would give us the result of **[4, 2, 5, 1, 3]**"
   ]
  },
  {
   "cell_type": "markdown",
   "metadata": {},
   "source": [
    "### Method using recursion\n",
    "\n",
    "Algorithm:\n",
    "\n",
    "   1. Traverse the left subtree, i.e., call Inorder(left-subtree)\n",
    "   2. Visit the root.\n",
    "   3. Traverse the right subtree, i.e., call Inorder(right-subtree)"
   ]
  },
  {
   "cell_type": "code",
   "execution_count": 1,
   "metadata": {},
   "outputs": [
    {
     "name": "stdout",
     "output_type": "stream",
     "text": [
      "\n",
      "Inorder traversal of binary tree is\n",
      "4 2 5 1 3 "
     ]
    }
   ],
   "source": [
    "\n",
    "# A class that represents an individual node in a Binary Tree\n",
    "class Node:\n",
    "    def __init__(self, key):\n",
    "        self.left = None\n",
    "        self.right = None\n",
    "        self.val = key\n",
    "\n",
    "\n",
    "# Recursive function for inorder tree traversal\n",
    "def inorder(root):\n",
    " \n",
    "    if root:\n",
    " \n",
    "        # First recur on left child\n",
    "        inorder(root.left)\n",
    " \n",
    "        # then print the data of node\n",
    "        print(root.val, end=\" \"),\n",
    " \n",
    "        # now recur on right child\n",
    "        inorder(root.right)\n",
    "\n",
    "\n",
    "root = Node(1)\n",
    "root.left = Node(2)\n",
    "root.right = Node(3)\n",
    "root.left.left = Node(4)\n",
    "root.left.right = Node(5)\n",
    " \n",
    "print(\"\\nInorder traversal of binary tree is\")\n",
    "inorder(root)"
   ]
  },
  {
   "cell_type": "markdown",
   "metadata": {},
   "source": [
    "### Method using iteration\n",
    "\n",
    "Algorithm\n",
    "\n",
    "1. Create an empty stack S.\n",
    "2. Initialize current node as root\n",
    "3. Push the current node to S and set current = current->left until current is NULL\n",
    "4. If current is NULL and stack is not empty then \n",
    "     a. Pop the top item from stack.\n",
    "     b. Print the popped item, set current = popped_item->right \n",
    "     c. Go to step 3.\n",
    "5. If current is NULL and stack is empty then we are done."
   ]
  },
  {
   "cell_type": "code",
   "execution_count": 2,
   "metadata": {},
   "outputs": [
    {
     "name": "stdout",
     "output_type": "stream",
     "text": [
      "4 2 5 1 3 \n"
     ]
    }
   ],
   "source": [
    "class Node:\n",
    "    # Constructor to create a new node\n",
    "    def __init__(self, data):\n",
    "        self.data = data\n",
    "        self.left = None\n",
    "        self.right = None\n",
    " \n",
    "\n",
    "def inOrder(root):\n",
    "     \n",
    "    # Set current to root of binary tree\n",
    "    current = root\n",
    "    stack = [] # initialize stack\n",
    "     \n",
    "    while True:\n",
    "         \n",
    "        # Reach the left most Node of the current Node\n",
    "        if current is not None:\n",
    "             \n",
    "            # Place pointer to a tree node on the stack\n",
    "            # before traversing the node's left subtree\n",
    "            stack.append(current)\n",
    "         \n",
    "            current = current.left\n",
    " \n",
    "         \n",
    "        # BackTrack from the empty subtree and visit the Node\n",
    "        # at the top of the stack; however, if the stack is\n",
    "        # empty you are done\n",
    "        elif(stack):\n",
    "            current = stack.pop()\n",
    "            print(current.data, end=\" \")\n",
    "         \n",
    "            # We have visited the node and its left\n",
    "            # subtree. Now, it's right subtree's turn\n",
    "            current = current.right\n",
    " \n",
    "        else:\n",
    "            break\n",
    "      \n",
    "    print()\n",
    " \n",
    " \n",
    "root = Node(1)\n",
    "root.left = Node(2)\n",
    "root.right = Node(3)\n",
    "root.left.left = Node(4)\n",
    "root.left.right = Node(5)\n",
    " \n",
    "inOrder(root)"
   ]
  },
  {
   "cell_type": "markdown",
   "metadata": {},
   "source": [
    "#### When to use Inorder Traversal\n",
    "\n",
    "Inorder traversal is used to get the values of the nodes in non-decreasing order in a binary search tree (BST).\n",
    "\n",
    "If you know that the tree has an inherent sequence in the nodes, and you want to flatten the tree back into its original sequence, than an in-order traversal should be used. The tree would be flattened in the same way it was created. A pre-order or post-order traversal might not unwind the tree back into the sequence which was used to create it."
   ]
  },
  {
   "cell_type": "markdown",
   "metadata": {},
   "source": [
    "# Preorder\n",
    "\n",
    "<img src=\"tree.gif\" alt=\" \" width=\"300\"/> \n",
    "\n",
    "From the image above,  Preorder traversal can be seen as going **Root**, **Left**, **Right**. giving us the result of **[1, 2, 4, 5, 3]** "
   ]
  },
  {
   "cell_type": "markdown",
   "metadata": {},
   "source": [
    "### Method using recusion\n",
    "\n",
    "Algorithm\n",
    "   1. Visit the root.\n",
    "   2. Traverse the left subtree, i.e., call Preorder(left-subtree)\n",
    "   3. Traverse the right subtree, i.e., call Preorder(right-subtree) "
   ]
  },
  {
   "cell_type": "code",
   "execution_count": 3,
   "metadata": {},
   "outputs": [
    {
     "name": "stdout",
     "output_type": "stream",
     "text": [
      "Preorder traversal of binary tree is\n",
      "1 2 4 5 3 "
     ]
    }
   ],
   "source": [
    "# A class that represents an individual node in a Binary Tree\n",
    "class Node:\n",
    "    def __init__(self, key):\n",
    "        self.left = None\n",
    "        self.right = None\n",
    "        self.val = key\n",
    "\n",
    "\n",
    "# A function to do preorder tree traversal\n",
    "def printPreorder(root):\n",
    " \n",
    "    if root:\n",
    " \n",
    "        # First print the data of node\n",
    "        print(root.val, end=\" \"),\n",
    " \n",
    "        # Then recur on left child\n",
    "        printPreorder(root.left)\n",
    " \n",
    "        # Finally recur on right child\n",
    "        printPreorder(root.right)\n",
    "\n",
    "\n",
    "root = Node(1)\n",
    "root.left = Node(2)\n",
    "root.right = Node(3)\n",
    "root.left.left = Node(4)\n",
    "root.left.right = Node(5)\n",
    " \n",
    "print(\"Preorder traversal of binary tree is\")\n",
    "printPreorder(root)"
   ]
  },
  {
   "cell_type": "markdown",
   "metadata": {},
   "source": [
    "### Method using iteration\n",
    "\n",
    "Algorithm\n",
    "\n",
    "1. Create an empty stack nodeStack and push root node to stack. \n",
    "2. Do the following while nodeStack is not empty. \n",
    "    - Pop an item from the stack and print it. \n",
    "    - Push right child of a popped item to stack \n",
    "    - Push left child of a popped item to stack\n",
    "    \n",
    "The right child is pushed before the left child to make sure that the left subtree is processed first."
   ]
  },
  {
   "cell_type": "code",
   "execution_count": 4,
   "metadata": {},
   "outputs": [
    {
     "name": "stdout",
     "output_type": "stream",
     "text": [
      "1 2 4 5 3 "
     ]
    }
   ],
   "source": [
    "# A binary tree node\n",
    "class Node:\n",
    " \n",
    "    # Constructor to create a new node\n",
    "    def __init__(self, data):\n",
    "        self.data = data\n",
    "        self.left = None\n",
    "        self.right = None\n",
    " \n",
    "# An iterative process to print preorder traversal of BT\n",
    "def iterativePreorder(root):\n",
    "     \n",
    "    if root is None:\n",
    "        return\n",
    " \n",
    "    # create an empty stack and push root to it\n",
    "    nodeStack = []\n",
    "    nodeStack.append(root)\n",
    " \n",
    "    # Pop all items one by one. Do following for every popped item\n",
    "    # a) print it\n",
    "    # b) push its right child\n",
    "    # c) push its left child\n",
    "    # Note that right child is pushed first so that left\n",
    "    # is processed first */\n",
    "    while(len(nodeStack) > 0):\n",
    "         \n",
    "        # Pop the top item from stack and print it\n",
    "        node = nodeStack.pop()\n",
    "        print (node.data, end=\" \")\n",
    "         \n",
    "        # Push right and left children of the popped node to stack\n",
    "        if node.right is not None:\n",
    "            nodeStack.append(node.right)\n",
    "        if node.left is not None:\n",
    "            nodeStack.append(node.left)\n",
    "\n",
    "\n",
    "root = Node(1)\n",
    "root.left = Node(2)\n",
    "root.right = Node(3)\n",
    "root.left.left = Node(4)\n",
    "root.left.right = Node(5)\n",
    "iterativePreorder(root)"
   ]
  },
  {
   "cell_type": "markdown",
   "metadata": {},
   "source": [
    "### When to use Preorder traversal\n",
    "\n",
    "If you know you need to explore the roots before inspecting any leaves, you pick pre-order because you will encounter all the roots before all of the leaves.\n",
    "\n",
    "Pre-order can also be used to create a copy of a tree. For example, if you want to create a replica of a tree, put the nodes in an array with a pre-order traversal. Then perform an Insert operation on a new tree for each value in the array. You will end up with a copy of your original tree."
   ]
  },
  {
   "cell_type": "markdown",
   "metadata": {},
   "source": [
    "# Postorder\n",
    "\n",
    "<img src=\"tree.gif\" alt=\" \" width=\"300\"/> \n",
    "\n",
    "From the image above, Postorder traversal can be seen as going **Left, Right, Root**. giving us the result of **[4, 5, 2, 3, 1]**"
   ]
  },
  {
   "cell_type": "markdown",
   "metadata": {},
   "source": [
    "### Method using recursion\n",
    "\n",
    "\n",
    "Algorithm\n",
    "\n",
    "   1. Traverse the left subtree, i.e., call Postorder(left-subtree)\n",
    "   2. Traverse the right subtree, i.e., call Postorder(right-subtree)\n",
    "   3. Visit the root."
   ]
  },
  {
   "cell_type": "code",
   "execution_count": 5,
   "metadata": {},
   "outputs": [
    {
     "name": "stdout",
     "output_type": "stream",
     "text": [
      "\n",
      "Postorder traversal of binary tree is\n",
      "4 5 2 3 1 "
     ]
    }
   ],
   "source": [
    "# A class that represents an individual node in a Binary Tree\n",
    "class Node:\n",
    "    def __init__(self, key):\n",
    "        self.left = None\n",
    "        self.right = None\n",
    "        self.val = key\n",
    "\n",
    "\n",
    "# A function to do postorder tree traversal\n",
    "def printPostorder(root):\n",
    " \n",
    "    if root:\n",
    " \n",
    "        # First recur on left child\n",
    "        printPostorder(root.left)\n",
    " \n",
    "        # the recur on right child\n",
    "        printPostorder(root.right)\n",
    " \n",
    "        # now print the data of node\n",
    "        print(root.val, end=\" \")\n",
    "\n",
    "\n",
    "root = Node(1)\n",
    "root.left = Node(2)\n",
    "root.right = Node(3)\n",
    "root.left.left = Node(4)\n",
    "root.left.right = Node(5)\n",
    " \n",
    "print(\"\\nPostorder traversal of binary tree is\")\n",
    "printPostorder(root)"
   ]
  },
  {
   "cell_type": "markdown",
   "metadata": {},
   "source": [
    "### Method using iteration\n",
    "\n",
    "Algorithm\n",
    "\n",
    "1. Push root to first stack.\n",
    "2. Loop while first stack is not empty\n",
    "   2.1 Pop a node from first stack and push it to second stack\n",
    "   2.2 Push left and right children of the popped node to first stack\n",
    "3. Print contents of second stack"
   ]
  },
  {
   "cell_type": "code",
   "execution_count": 6,
   "metadata": {},
   "outputs": [
    {
     "name": "stdout",
     "output_type": "stream",
     "text": [
      "4 5 2 3 1 "
     ]
    }
   ],
   "source": [
    "# A binary tree node\n",
    "class Node:\n",
    "     \n",
    "    # Constructor to create a new node\n",
    "    def __init__(self, data):\n",
    "        self.data = data\n",
    "        self.left = None\n",
    "        self.right = None\n",
    " \n",
    "# An iterative function to do postorder traversal of a given binary tree\n",
    "def postOrderIterative(root):\n",
    " \n",
    "    if root is None:\n",
    "        return       \n",
    "     \n",
    "    # Create two stacks\n",
    "    s1 = []\n",
    "    s2 = []\n",
    "     \n",
    "    # Push root to first stack\n",
    "    s1.append(root)\n",
    "     \n",
    "    # Run while first stack is not empty\n",
    "    while s1:\n",
    "         \n",
    "        # Pop an item from s1 and\n",
    "        # append it to s2\n",
    "        node = s1.pop()\n",
    "        s2.append(node)\n",
    "     \n",
    "        # Push left and right children of\n",
    "        # removed item to s1\n",
    "        if node.left:\n",
    "            s1.append(node.left)\n",
    "        if node.right:\n",
    "            s1.append(node.right)\n",
    " \n",
    "        # Print all elements of second stack\n",
    "    while s2:\n",
    "        node = s2.pop()\n",
    "        print(node.data,end=\" \")\n",
    " \n",
    "\n",
    "root = Node(1)\n",
    "root.left = Node(2)\n",
    "root.right = Node(3)\n",
    "root.left.left = Node(4)\n",
    "root.left.right = Node(5)\n",
    "postOrderIterative(root)"
   ]
  },
  {
   "cell_type": "markdown",
   "metadata": {},
   "source": [
    "### When to use post-order Traversal\n",
    "\n",
    "post-Order traversal can be used  to delete a tree from leaf to root\n",
    "\n",
    "If you know you need to explore all the leaves before any nodes, you select post-order because you don't waste any time inspecting roots in search for leaves."
   ]
  },
  {
   "cell_type": "markdown",
   "metadata": {},
   "source": [
    "# LevelOrder\n",
    "\n",
    "level-Order is a breadth first search approach that returns the tree in order\n",
    "\n",
    "<img src=\"tree.gif\" alt=\" \" width=\"300\"/> \n",
    "\n",
    "Level order traversal of the above tree is 1 2 3 4 5 "
   ]
  },
  {
   "cell_type": "markdown",
   "metadata": {},
   "source": [
    "### Algorithm\n",
    "\n",
    "For each node, first, the node is visited and then it’s child nodes are put in a FIFO queue. \n",
    "\n",
    "- Create an empty queue q\n",
    "- temp_node = root /*start from root*/\n",
    "- Loop while temp_node is not NULL\n",
    "    - print temp_node->data.\n",
    "    - Enqueue temp_node’s children (first left then right children) to q\n",
    "    - Dequeue a node from q.\n",
    "\n",
    "\n",
    "Time Complexity: O(n) where n is the number of nodes in the binary tree.<br>\n",
    "Auxiliary Space: O(n) where n is the number of nodes in the binary tree."
   ]
  },
  {
   "cell_type": "code",
   "execution_count": 7,
   "metadata": {},
   "outputs": [
    {
     "name": "stdout",
     "output_type": "stream",
     "text": [
      "Level Order Traversal of binary tree is -\n",
      "1 2 3 4 5 "
     ]
    }
   ],
   "source": [
    "class Node:\n",
    "    # A utility function to create a new node\n",
    "    def __init__(self, key):\n",
    "        self.data = key\n",
    "        self.left = None\n",
    "        self.right = None\n",
    " \n",
    "# Iterative Method to print the\n",
    "# height of a binary tree\n",
    " \n",
    " \n",
    "def printLevelOrder(root):\n",
    "    # Base Case\n",
    "    if root is None:\n",
    "        return\n",
    " \n",
    "    # Create an empty queue\n",
    "    # for level order traversal\n",
    "    queue = []\n",
    " \n",
    "    # Enqueue Root and initialize height\n",
    "    queue.append(root)\n",
    " \n",
    "    while(len(queue) > 0):\n",
    " \n",
    "        # Print front of queue and\n",
    "        # remove it from queue\n",
    "        print(queue[0].data, end=\" \")\n",
    "        node = queue.pop(0)\n",
    " \n",
    "        # Enqueue left child\n",
    "        if node.left is not None:\n",
    "            queue.append(node.left)\n",
    " \n",
    "        # Enqueue right child\n",
    "        if node.right is not None:\n",
    "            queue.append(node.right)\n",
    " \n",
    " \n",
    "# Driver Program to test above function\n",
    "root = Node(1)\n",
    "root.left = Node(2)\n",
    "root.right = Node(3)\n",
    "root.left.left = Node(4)\n",
    "root.left.right = Node(5)\n",
    " \n",
    "print(\"Level Order Traversal of binary tree is -\")\n",
    "printLevelOrder(root)"
   ]
  }
 ],
 "metadata": {
  "interpreter": {
   "hash": "1ee38ef4a5a9feb55287fd749643f13d043cb0a7addaab2a9c224cbe137c0062"
  },
  "kernelspec": {
   "display_name": "Python 3.8.7 64-bit",
   "language": "python",
   "name": "python3"
  },
  "language_info": {
   "codemirror_mode": {
    "name": "ipython",
    "version": 3
   },
   "file_extension": ".py",
   "mimetype": "text/x-python",
   "name": "python",
   "nbconvert_exporter": "python",
   "pygments_lexer": "ipython3",
   "version": "3.8.7"
  },
  "orig_nbformat": 4
 },
 "nbformat": 4,
 "nbformat_minor": 2
}
