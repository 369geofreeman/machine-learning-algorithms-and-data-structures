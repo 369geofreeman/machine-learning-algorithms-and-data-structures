{
 "cells": [
  {
   "cell_type": "markdown",
   "metadata": {},
   "source": [
    "# Tree Traversals\n",
    "\n",
    "In this notebook we will look at the four different ways to traverse trees, **Inorder**, **Preorder**, **Postorder** and **Level Order**.\n",
    "\n",
    "**Depth First Traversals**:\n",
    "- [**Inorder**](#inorder)\n",
    "- [**Preorder**](#preorder)\n",
    "- [**Postorder**](#postorder)\n",
    "\n",
    "**Breadth First Traversal**:\n",
    "- [**Level Order**](#level-order)\n",
    "\n",
    "\n",
    "Trees are non-linear data structures (which might include Array, Linked List, Queues, Stacks, etc), and because of this there is generally more than one way to traverse them. Using **Depth First** to traverse the tree gives us the three options **Inorder**, **Preorder** and **Postorder**. And using **Breadth First** we can apply **Level Order** which we will explore below."
   ]
  },
  {
   "cell_type": "markdown",
   "metadata": {},
   "source": [
    "# Depth First Traversals\n",
    "\n",
    "<img src=\"tree.gif\" alt=\" \" width=\"300\"/> "
   ]
  },
  {
   "cell_type": "markdown",
   "metadata": {},
   "source": [
    "## Inorder\n",
    "\n",
    "From the image above, **Inorder** traversal can be seen as going (Left, Root, Right), which would give us the result of **[4, 2, 5, 1, 3]**"
   ]
  },
  {
   "cell_type": "markdown",
   "metadata": {},
   "source": [
    "### Method using recursion\n",
    "\n",
    "Algorithm:\n",
    "\n",
    "   1. Traverse the left subtree, i.e., call Inorder(left-subtree)\n",
    "   2. Visit the root.\n",
    "   3. Traverse the right subtree, i.e., call Inorder(right-subtree)"
   ]
  },
  {
   "cell_type": "code",
   "execution_count": 1,
   "metadata": {},
   "outputs": [
    {
     "name": "stdout",
     "output_type": "stream",
     "text": [
      "\n",
      "Inorder traversal of binary tree is\n",
      "4\n",
      "2\n",
      "5\n",
      "1\n",
      "3\n"
     ]
    }
   ],
   "source": [
    "\n",
    "# A class that represents an individual node in a Binary Tree\n",
    "class Node:\n",
    "    def __init__(self, key):\n",
    "        self.left = None\n",
    "        self.right = None\n",
    "        self.val = key\n",
    "\n",
    "\n",
    "# Recursive function for inorder tree traversal\n",
    "def inorder(root):\n",
    " \n",
    "    if root:\n",
    " \n",
    "        # First recur on left child\n",
    "        inorder(root.left)\n",
    " \n",
    "        # then print the data of node\n",
    "        print(root.val),\n",
    " \n",
    "        # now recur on right child\n",
    "        inorder(root.right)\n",
    "\n",
    "\n",
    "root = Node(1)\n",
    "root.left = Node(2)\n",
    "root.right = Node(3)\n",
    "root.left.left = Node(4)\n",
    "root.left.right = Node(5)\n",
    " \n",
    "print(\"\\nInorder traversal of binary tree is\")\n",
    "inorder(root)"
   ]
  },
  {
   "cell_type": "markdown",
   "metadata": {},
   "source": [
    "### Method using iteration\n",
    "\n",
    "Algorithm\n",
    "\n",
    "1. Create an empty stack S.\n",
    "2. Initialize current node as root\n",
    "3. Push the current node to S and set current = current->left until current is NULL\n",
    "4. If current is NULL and stack is not empty then \n",
    "     a. Pop the top item from stack.\n",
    "     b. Print the popped item, set current = popped_item->right \n",
    "     c. Go to step 3.\n",
    "5. If current is NULL and stack is empty then we are done."
   ]
  },
  {
   "cell_type": "code",
   "execution_count": 2,
   "metadata": {},
   "outputs": [
    {
     "name": "stdout",
     "output_type": "stream",
     "text": [
      "4 2 5 1 3 \n"
     ]
    }
   ],
   "source": [
    "class Node:\n",
    "    # Constructor to create a new node\n",
    "    def __init__(self, data):\n",
    "        self.data = data\n",
    "        self.left = None\n",
    "        self.right = None\n",
    " \n",
    "\n",
    "def inOrder(root):\n",
    "     \n",
    "    # Set current to root of binary tree\n",
    "    current = root\n",
    "    stack = [] # initialize stack\n",
    "     \n",
    "    while True:\n",
    "         \n",
    "        # Reach the left most Node of the current Node\n",
    "        if current is not None:\n",
    "             \n",
    "            # Place pointer to a tree node on the stack\n",
    "            # before traversing the node's left subtree\n",
    "            stack.append(current)\n",
    "         \n",
    "            current = current.left\n",
    " \n",
    "         \n",
    "        # BackTrack from the empty subtree and visit the Node\n",
    "        # at the top of the stack; however, if the stack is\n",
    "        # empty you are done\n",
    "        elif(stack):\n",
    "            current = stack.pop()\n",
    "            print(current.data, end=\" \")\n",
    "         \n",
    "            # We have visited the node and its left\n",
    "            # subtree. Now, it's right subtree's turn\n",
    "            current = current.right\n",
    " \n",
    "        else:\n",
    "            break\n",
    "      \n",
    "    print()\n",
    " \n",
    " \n",
    "root = Node(1)\n",
    "root.left = Node(2)\n",
    "root.right = Node(3)\n",
    "root.left.left = Node(4)\n",
    "root.left.right = Node(5)\n",
    " \n",
    "inOrder(root)"
   ]
  },
  {
   "cell_type": "markdown",
   "metadata": {},
   "source": [
    "#### When to use Inorder Traversal\n",
    "\n",
    "Inorder traversal is used to get the values of the nodes in non-decreasing order in a binary search tree (BST).\n",
    "\n",
    "If you know that the tree has an inherent sequence in the nodes, and you want to flatten the tree back into its original sequence, than an in-order traversal should be used. The tree would be flattened in the same way it was created. A pre-order or post-order traversal might not unwind the tree back into the sequence which was used to create it."
   ]
  }
 ],
 "metadata": {
  "interpreter": {
   "hash": "1ee38ef4a5a9feb55287fd749643f13d043cb0a7addaab2a9c224cbe137c0062"
  },
  "kernelspec": {
   "display_name": "Python 3.8.7 64-bit",
   "language": "python",
   "name": "python3"
  },
  "language_info": {
   "codemirror_mode": {
    "name": "ipython",
    "version": 3
   },
   "file_extension": ".py",
   "mimetype": "text/x-python",
   "name": "python",
   "nbconvert_exporter": "python",
   "pygments_lexer": "ipython3",
   "version": "3.8.7"
  },
  "orig_nbformat": 4
 },
 "nbformat": 4,
 "nbformat_minor": 2
}
