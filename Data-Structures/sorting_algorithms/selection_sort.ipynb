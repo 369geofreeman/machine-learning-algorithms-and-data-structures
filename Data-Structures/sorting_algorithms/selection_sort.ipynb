{
 "cells": [
  {
   "cell_type": "markdown",
   "metadata": {},
   "source": [
    "# Selection Sort\n",
    "\n",
    "The algorithm begins by finding the smallest value to place in the first position in the list. It does this by doing a linear search through<br>\n",
    "the list and along the way remembering the index of the smallest item it finds.<br>\n",
    "The algorithm uses the guess and check pattern by first guessing that the smallest item is the first item in the list and then checking the subsequent<br>\n",
    "items to see if it made an incorrect guess. This part of the algorithm is the selection part.\n",
    "\n",
    "Efficiency:<br>\n",
    "\n",
    "The time complexity of Selection Sort is O(N2) as there are two nested loops:\n",
    "\n",
    "- One loop to select an element of Array one by one = O(N)\n",
    "- Another loop to compare that element with every other Array element = O(N)\n",
    "- Therefore overall complexity = O(N)*O(N) = O(N*N) = O(N^2)"
   ]
  },
  {
   "cell_type": "code",
   "execution_count": 1,
   "metadata": {},
   "outputs": [],
   "source": [
    "def selSort(A):\n",
    "    # Traverse through all array elements\n",
    "    for i in range(len(A)):\n",
    "\n",
    "        # Find the minimum element in remaining \n",
    "        # unsorted array\n",
    "        min_idx = i\n",
    "        for j in range(i+1, len(A)):\n",
    "            if A[min_idx] > A[j]:\n",
    "                min_idx = j\n",
    "\n",
    "        # Swap the found minimum element with \n",
    "        # the first element        \n",
    "        A[i], A[min_idx] = A[min_idx], A[i]\n",
    "\n",
    "    return A"
   ]
  },
  {
   "cell_type": "code",
   "execution_count": 3,
   "metadata": {},
   "outputs": [
    {
     "name": "stdout",
     "output_type": "stream",
     "text": [
      "Test 1 => []\n",
      "Test 2 => [3]\n",
      "Test 3 => [2, 7, 8, 9]\n",
      "Test 4 => [1, 2, 3, 4, 5]\n",
      "Test 5 => [5, 7, 8, 9, 12, 45, 51, 56, 100]\n"
     ]
    }
   ],
   "source": [
    "test_cases = [\n",
    "    [],\n",
    "    [3],\n",
    "    [9, 8, 7, 2],\n",
    "    [1, 2, 3, 4, 5],\n",
    "    [5, 8, 12, 56, 7, 9, 45, 51, 100]\n",
    "    ]\n",
    "\n",
    "for idx, arr in enumerate(test_cases):\n",
    "    selSort(arr)\n",
    "    print(f\"Test {idx+1} => {arr}\")"
   ]
  }
 ],
 "metadata": {
  "interpreter": {
   "hash": "aee8b7b246df8f9039afb4144a1f6fd8d2ca17a180786b69acc140d282b71a49"
  },
  "kernelspec": {
   "display_name": "Python 3.9.1 64-bit",
   "language": "python",
   "name": "python3"
  },
  "language_info": {
   "codemirror_mode": {
    "name": "ipython",
    "version": 3
   },
   "file_extension": ".py",
   "mimetype": "text/x-python",
   "name": "python",
   "nbconvert_exporter": "python",
   "pygments_lexer": "ipython3",
   "version": "3.9.1"
  },
  "orig_nbformat": 4
 },
 "nbformat": 4,
 "nbformat_minor": 2
}
