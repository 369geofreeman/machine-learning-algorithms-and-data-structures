{
 "cells": [
  {
   "cell_type": "markdown",
   "metadata": {},
   "source": [
    "# Quick Sort\n",
    "\n",
    "Quick sort is a divide and conquer algo that is usually written recursively. \n",
    "- First we split the list\n",
    "- We take one element and sort it, then use use that as pivot\n",
    "- Recursevely we do that again from left to right. this is called partitioning\n",
    "- There are two ways to partition the list\n",
    "\n",
    "Efficiency:\n",
    "- Average time complexity O(n Log n)\n",
    "- Worst case of O(n²)"
   ]
  },
  {
   "cell_type": "code",
   "execution_count": 1,
   "metadata": {},
   "outputs": [],
   "source": [
    "def swap(a, b, arr):\n",
    "    if a != b:\n",
    "        arr[a], arr[b] = arr[b], arr[a]\n",
    "\n",
    "\n",
    "def partition(elements, start, end):\n",
    "    pivot_index = start\n",
    "    pivot = elements[pivot_index]\n",
    "\n",
    "    while start < end:\n",
    "        while start < len(elements) and elements[start] <= pivot:\n",
    "            start += 1\n",
    "\n",
    "        while elements[end] > pivot:\n",
    "            end -= 1\n",
    "\n",
    "        if start < end:\n",
    "            swap(start, end, elements)\n",
    "\n",
    "    swap(pivot_index, end, elements)\n",
    "\n",
    "    return end\n",
    "\n",
    "\n",
    "def quick_sort(elements, start, end):\n",
    "    if start < end:\n",
    "        pi = partition(elements, start, end)\n",
    "        quick_sort(elements, start, pi - 1)  # left partition\n",
    "        quick_sort(elements, pi+1, end)  # Right partition"
   ]
  },
  {
   "cell_type": "code",
   "execution_count": 3,
   "metadata": {},
   "outputs": [
    {
     "name": "stdout",
     "output_type": "stream",
     "text": [
      "Test 1 => []\n",
      "Test 2 => [3]\n",
      "Test 3 => [2, 7, 8, 9]\n",
      "Test 4 => [1, 2, 3, 4, 5]\n",
      "Test 5 => [5, 7, 8, 9, 12, 45, 51, 56, 100]\n"
     ]
    }
   ],
   "source": [
    "test_cases = [\n",
    "    [],\n",
    "    [3],\n",
    "    [9, 8, 7, 2],\n",
    "    [1, 2, 3, 4, 5],\n",
    "    [5, 8, 12, 56, 7, 9, 45, 51, 100]\n",
    "    ]\n",
    "\n",
    "for idx, arr in enumerate(test_cases):\n",
    "    quick_sort(arr, 0, len(arr) - 1)\n",
    "    print(f\"Test {idx+1} => {arr}\")"
   ]
  }
 ],
 "metadata": {
  "interpreter": {
   "hash": "aee8b7b246df8f9039afb4144a1f6fd8d2ca17a180786b69acc140d282b71a49"
  },
  "kernelspec": {
   "display_name": "Python 3.9.1 64-bit",
   "language": "python",
   "name": "python3"
  },
  "language_info": {
   "codemirror_mode": {
    "name": "ipython",
    "version": 3
   },
   "file_extension": ".py",
   "mimetype": "text/x-python",
   "name": "python",
   "nbconvert_exporter": "python",
   "pygments_lexer": "ipython3",
   "version": "3.9.1"
  },
  "orig_nbformat": 4
 },
 "nbformat": 4,
 "nbformat_minor": 2
}
