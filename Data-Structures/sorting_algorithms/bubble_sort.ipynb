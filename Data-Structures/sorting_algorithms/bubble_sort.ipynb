{
 "cells": [
  {
   "cell_type": "markdown",
   "metadata": {},
   "source": [
    "# Bubble Sort\n",
    "\n",
    "Bubble Sort is a simple sorting algorithm. It works by repeatedly swapping the adjacent elements if they are in the wrong order.<br>\n",
    "It is not recommended to use this sorting algorithm on large datasets, it is more used as a introducion to grasp how sorting algorithms work.\n",
    "\n",
    "Efficiency:<br>\n",
    "The worst case occurs when an array is reverse sorted: O(N2).<br>\n",
    "Best Case Time Complexity, when the array is sorted: O(N).<br>\n",
    "Auxiliary Space: O(1)<br>"
   ]
  },
  {
   "cell_type": "code",
   "execution_count": 4,
   "metadata": {},
   "outputs": [],
   "source": [
    "def bubbleSort(arr):\n",
    "    n = len(arr)\n",
    "\n",
    "    for i in range(n):\n",
    "  \n",
    "        for j in range(0, n-i-1):\n",
    "  \n",
    "            if arr[j] > arr[j+1]:\n",
    "                arr[j], arr[j+1] = arr[j+1], arr[j]\n",
    "    return arr"
   ]
  },
  {
   "cell_type": "code",
   "execution_count": 5,
   "metadata": {},
   "outputs": [
    {
     "name": "stdout",
     "output_type": "stream",
     "text": [
      "Sorted arrays are:\n",
      "Test 1 => []\n",
      "Test 2 => [3]\n",
      "Test 3 => [2, 7, 8, 9]\n",
      "Test 4 => [1, 2, 3, 4, 5]\n",
      "Test 5 => [5, 7, 8, 9, 12, 45, 51, 56, 100]\n"
     ]
    }
   ],
   "source": [
    "test_cases = [\n",
    "    [],\n",
    "    [3],\n",
    "    [9, 8, 7, 2],\n",
    "    [1, 2, 3, 4, 5],\n",
    "    [5, 8, 12, 56, 7, 9, 45, 51, 100]\n",
    "    ]\n",
    "  \n",
    "print(\"Sorted arrays are:\")\n",
    "for i, arr in enumerate(test_cases):\n",
    "    a = bubbleSort(arr)\n",
    "    print(f\"Test {i+1} => {a}\")"
   ]
  }
 ],
 "metadata": {
  "interpreter": {
   "hash": "aee8b7b246df8f9039afb4144a1f6fd8d2ca17a180786b69acc140d282b71a49"
  },
  "kernelspec": {
   "display_name": "Python 3.9.1 64-bit",
   "language": "python",
   "name": "python3"
  },
  "language_info": {
   "codemirror_mode": {
    "name": "ipython",
    "version": 3
   },
   "file_extension": ".py",
   "mimetype": "text/x-python",
   "name": "python",
   "nbconvert_exporter": "python",
   "pygments_lexer": "ipython3",
   "version": "3.9.1"
  },
  "orig_nbformat": 4
 },
 "nbformat": 4,
 "nbformat_minor": 2
}
