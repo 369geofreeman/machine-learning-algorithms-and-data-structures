{
 "cells": [
  {
   "cell_type": "markdown",
   "metadata": {},
   "source": [
    "# Merge Sort\n",
    "\n",
    "Merge sort is an instance of a divide and conquer algorithm. The basic premise is we divide a problem into two pieces. Each of the the two<br>\n",
    "pieces are easier to solve rather than attempting the entire thing, because they are smaller.\n",
    "\n",
    "Efficiency:<br>\n",
    "*O(n log n)*"
   ]
  },
  {
   "cell_type": "code",
   "execution_count": 1,
   "metadata": {},
   "outputs": [],
   "source": [
    "def mergeTwoSortedLists(a, b, arr):\n",
    "    len_a = len(a)\n",
    "    len_b = len(b)\n",
    "    i = j = k = 0\n",
    "\n",
    "    while i < len_a and j < len_b:\n",
    "        if a[i] < b[j]:\n",
    "            arr[k] = a[i]\n",
    "            i += 1\n",
    "        else:\n",
    "            arr[k] = b[j]\n",
    "            j += 1\n",
    "        k += 1\n",
    "\n",
    "    while i < len_a:\n",
    "        arr[k] = a[i]\n",
    "        i += 1\n",
    "        k += 1\n",
    "\n",
    "    while j < len_b:\n",
    "        arr[k] = b[j]\n",
    "        j += 1\n",
    "        k += 1\n",
    "\n",
    "\n",
    "def merge_sort(arr):\n",
    "    if len(arr) <= 1:\n",
    "        return\n",
    "\n",
    "    mid = len(arr) // 2\n",
    "    left = arr[:mid]\n",
    "    right = arr[mid:]\n",
    "\n",
    "    merge_sort(left)\n",
    "    merge_sort(right)\n",
    "\n",
    "    mergeTwoSortedLists(left, right, arr)"
   ]
  },
  {
   "cell_type": "code",
   "execution_count": 3,
   "metadata": {},
   "outputs": [
    {
     "name": "stdout",
     "output_type": "stream",
     "text": [
      "Test 1 => []\n",
      "Test 2 => [3]\n",
      "Test 3 => [2, 7, 8, 9]\n",
      "Test 4 => [1, 2, 3, 4, 5]\n",
      "Test 5 => [5, 7, 8, 9, 12, 45, 51, 56, 100]\n"
     ]
    }
   ],
   "source": [
    "test_cases = [\n",
    "    [],\n",
    "    [3],\n",
    "    [9, 8, 7, 2],\n",
    "    [1, 2, 3, 4, 5],\n",
    "    [5, 8, 12, 56, 7, 9, 45, 51, 100]\n",
    "    ]\n",
    "\n",
    "for idx, arr in enumerate(test_cases):\n",
    "    merge_sort(arr)\n",
    "    print(f\"Test {idx+1} => {arr}\")"
   ]
  }
 ],
 "metadata": {
  "interpreter": {
   "hash": "aee8b7b246df8f9039afb4144a1f6fd8d2ca17a180786b69acc140d282b71a49"
  },
  "kernelspec": {
   "display_name": "Python 3.9.1 64-bit",
   "language": "python",
   "name": "python3"
  },
  "language_info": {
   "codemirror_mode": {
    "name": "ipython",
    "version": 3
   },
   "file_extension": ".py",
   "mimetype": "text/x-python",
   "name": "python",
   "nbconvert_exporter": "python",
   "pygments_lexer": "ipython3",
   "version": "3.9.1"
  },
  "orig_nbformat": 4
 },
 "nbformat": 4,
 "nbformat_minor": 2
}
