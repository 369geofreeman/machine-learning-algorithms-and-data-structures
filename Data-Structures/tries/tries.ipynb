{
 "cells": [
  {
   "cell_type": "markdown",
   "metadata": {},
   "source": [
    "# Tries\n",
    "\n",
    "A data structure for storing items (usualy strings) bassed off of prefixes the items share in common\n",
    "\n",
    "- [Trie vs List](#trie-vs-list)\n",
    "- [Time Complexity](#time-complexity)\n",
    "- [Building a Trie (adding the words \"wait\" and \"waitier\")](#building-a-trie-(adding-the-words-\"wait\"-and-\"waitier\"))\n",
    "\n",
    "---"
   ]
  },
  {
   "cell_type": "markdown",
   "metadata": {},
   "source": [
    "### Trie vs List\n",
    "\n",
    "Representing the words \"wait\", \"waiter\", \"shop\", \"shopper\" in a trie vs a list\n",
    "\n",
    "In a list python will store the words as a whole string one by one: \n",
    "\n",
    "<img src=\"img/lst.png\" alt=\"list\" width=300>\n",
    "\n",
    "Whereas a trie will represent the data in a tree like structure:\n",
    "\n",
    "<img src=\"img/trie.png\" alt=\"Trie\" width=300>\n",
    "\n",
    "With the trie structure, if we were to search for the word wait, we would see if the root has any children that equal \"w\". Then we would see if the \"w\" has an \"a\" as any of it's children etc. When we reach the end of the word we need to know if it is in fact the end of the word in the trie, so we look for a symbol to denote that, in the case above it is denoted using the \"\\*\" symbol.<br><br>\n",
    "If we were looing for the word \"waiter\", we would use the same logic, since \"e\" is a child of \"t\" we continue down in the same way as before finding a \"\\*\" to denote the end of the word.<br><br>\n",
    "If we were to look for the word \"waiting\", we would do the same process except when we get to the \"t\" we see there is no children that \"t\" is pointing too that equals \"i\". Therefore, \"waiting\" is not in our trie.\n",
    "\n",
    "---"
   ]
  },
  {
   "cell_type": "markdown",
   "metadata": {},
   "source": [
    "### Time Compexity\n",
    "\n",
    "Time complexity of checking for the word \"shopper\" is in the data structure\n",
    "- list => $O(NM)$ Where $N$ is the number of words in the list and $M$ is the length of \"shopper\"\n",
    "- Trie => $O(M)& where $M$ is the length of \"shopper\"\n",
    "\n",
    "Adding a word to a trie is $O(M)$ where $M$ is the length of the word to be added\n",
    "\n",
    "---\n"
   ]
  },
  {
   "cell_type": "markdown",
   "metadata": {},
   "source": [
    "## Building a Trie (adding the words \"wait\" and \"waitier\")\n",
    "\n",
    "**Adding 'wait'**\n",
    "\n",
    "- To begin we start with the root that will be denoted with the symbol \\*\n",
    "\n",
    "- Then we check to see if '**w**' is a child of the root. If not then we add it.\n",
    "- After we have added the '**w**', we move our pointer down to the node we just created.\n",
    "\n",
    "- Then we check to see if '**a**' is a child of the node we just added. If not then we add it.\n",
    "- After we have added the '**a**', we move our pointer down to the node we just created.\n",
    "\n",
    "- Then we check to see if '**i**' is a child of the node we just added. If not then we add it.\n",
    "- After we have added the '**i**', we move our pointer down to the node we just created.\n",
    "\n",
    "- Then we check to see if '**t**' is a child of the node we just added. If not then we add it.\n",
    "- After we have added the '**t**', we move our pointer down to the node we just created.\n",
    "\n",
    "- Next, now that the word is added, we want to denote that so we add an **\\*** as a child\n",
    "\n",
    "The final result will look like this:<br>\n",
    "<img src=\"img/wait.png\" alt=\"wait\" width=300>\n",
    "\n",
    "\n",
    "**Adding 'waiter'**\n",
    "\n",
    "- To begin we start with the root that will be denoted with the symbol \\*\n",
    "\n",
    "- Then we check to see if '**w**' is a child of the root. If not then we add it.\n",
    "- Because **w** is a child of the root we move our pointer to the **w** node\n",
    "\n",
    "- Then we check to see if '**a**' is a child of the root. If not then we add it.\n",
    "- Because **a** is a child of the root we move our pointer to the **a** node\n",
    "\n",
    "- Then we check to see if '**i**' is a child of the root. If not then we add it.\n",
    "- Because **i** is a child of the root we move our pointer to the **i** node\n",
    "\n",
    "- Then we check to see if '**t**' is a child of the root. If not then we add it.\n",
    "- Because **t** is a child of the root we move our pointer to the **t** node\n",
    "\n",
    "- Then we check to see if '**e**' is a child of the root. If not then we add it.\n",
    "- After we have added the '**e**', we move our pointer down to the node we just created.\n",
    "\n",
    "- Then we check to see if '**r**' is a child of the root. If not then we add it.\n",
    "- After we have added the '*re**', we move our pointer down to the node we just created.\n",
    "\n",
    "- Next, now that the word is added, we want to denote that so we add an **\\*** as a child\n",
    "\n",
    "<img src=\"img/waiter.png\" alt=\"waiter\" width=300>\n",
    "\n",
    "The same processes can be used to add the words 'shop' and 'shopper' to our trie:\n",
    "\n",
    "<img src=\"img/trie.png\" alt=\"Trie\" width=300>\n",
    "\n",
    "Notice how we are only storing the prefix for the words once ('shop', 'wait') even though they are both used in two words. Thats why if we have a lot of words for our prefixes it's much more efficient to store words this way rather than a list as it cuts time and space compexity down quite a bit as the number of words expand.\n",
    "\n",
    "---"
   ]
  },
  {
   "cell_type": "markdown",
   "metadata": {},
   "source": [
    "## Implimenting Tries\n",
    "\n",
    "There are two main ways to impliment the Trie data structure.\n",
    "\n",
    "#### **Implementation 1:**<br>\n",
    "\n",
    "a `TrieNode` class that stores:\n",
    "- a letter variable which is a character\n",
    "- a boolean telling us if that node is the end of the word or not\n",
    "- dictionary of it's children\n",
    "\n",
    "a `Trie` class that has:\n",
    "- root => initiate as an empty `TrieNode`\n",
    "- method => add_word() -> returns None\n",
    "- method => does_exist() -> returns boolean\n",
    "\n",
    "#### **Implementation 2:**<br>\n",
    "\n",
    "Instead of a `TryNode` we have a a general `Trie` class\n",
    "- root => Dictionary that stores the letter it has as children and then the second letter it maps to {char: char}\n",
    "- method => add_word() -> returns None\n",
    "- method => does_exist() -> returns boolean"
   ]
  },
  {
   "cell_type": "markdown",
   "metadata": {},
   "source": [
    "## Code"
   ]
  },
  {
   "cell_type": "code",
   "execution_count": 1,
   "metadata": {},
   "outputs": [
    {
     "name": "stdout",
     "output_type": "stream",
     "text": [
      "True\n",
      "True\n",
      "False\n",
      "True\n",
      "False\n"
     ]
    }
   ],
   "source": [
    "class Trie:\n",
    "    def __init__(self):\n",
    "        self.root = {\"*\": \"*\"}\n",
    "    \n",
    "    def add_word(self, word):\n",
    "        curr_node = self.root\n",
    "\n",
    "        for letter in word:\n",
    "            if letter not in curr_node:\n",
    "                curr_node[letter] = {}\n",
    "            curr_node = curr_node[letter]\n",
    "        \n",
    "        curr_node[\"*\"] = \"*\"\n",
    "    \n",
    "    def does_word_exist(self, word):\n",
    "        curr_node = self.root\n",
    "\n",
    "        for letter in word:\n",
    "            if letter not in curr_node:\n",
    "                return False\n",
    "            curr_node = curr_node[letter]\n",
    "\n",
    "        return \"*\" in curr_node\n",
    "\n",
    "\n",
    "trie = Trie()\n",
    "words = [\"wait\", \"waiter\", \"shop\", \"shopper\"]\n",
    "\n",
    "for word in words:\n",
    "    trie.add_word(word)\n",
    "\n",
    "print(trie.does_word_exist(\"wait\"))     # True\n",
    "print(trie.does_word_exist(\"\"))     # True\n",
    "print(trie.does_word_exist(\"waite\"))     # False\n",
    "print(trie.does_word_exist(\"shopper\"))     # True\n",
    "print(trie.does_word_exist(\"shoppp\"))     #False"
   ]
  }
 ],
 "metadata": {
  "kernelspec": {
   "display_name": "Python 3.9.1 64-bit",
   "language": "python",
   "name": "python3"
  },
  "language_info": {
   "codemirror_mode": {
    "name": "ipython",
    "version": 3
   },
   "file_extension": ".py",
   "mimetype": "text/x-python",
   "name": "python",
   "nbconvert_exporter": "python",
   "pygments_lexer": "ipython3",
   "version": "3.9.1"
  },
  "orig_nbformat": 4,
  "vscode": {
   "interpreter": {
    "hash": "aee8b7b246df8f9039afb4144a1f6fd8d2ca17a180786b69acc140d282b71a49"
   }
  }
 },
 "nbformat": 4,
 "nbformat_minor": 2
}
