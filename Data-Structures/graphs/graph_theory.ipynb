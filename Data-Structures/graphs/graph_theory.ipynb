{
 "cells": [
  {
   "cell_type": "markdown",
   "metadata": {},
   "source": [
    "# Graph Theory\n",
    "\n"
   ]
  },
  {
   "cell_type": "markdown",
   "metadata": {},
   "source": [
    "### Mathmatical Definition\n",
    "\n",
    "In mathmatics a graph $G$ is a pair of two sets $(V, E)$. the set $V$ is called the **vertix** set, and the set $E$ is called the **edge** set.\n",
    "$$G = (V, E)$$\n",
    "\n",
    "Sets $V$ and $E$ and thought of as collections of objects\n",
    "\n",
    "The **verticies** of a graph can be any object we want, for exmple:\n",
    "- People in a social network\n",
    "- Items manufactured by a company\n",
    "- Mathmatical objects, like function\n",
    "- Python objects, like intigers or strings etc\n",
    "\n",
    "For the examples in this notebook we will take our **vertices** from the natural numbers including 0.<br>\n",
    "The **edge** set of a graph is made up of pairs of **vertices**<br>\n",
    "\n",
    "\n",
    "EXP:\n",
    "$$\n",
    "V = \\{0, 1, 2, 3\\}\n",
    "$$\n",
    "$$\n",
    "E = \\{(0, 1), (0, 2), (1, 3), (2, 3)\\}\n",
    "$$\n",
    "\n",
    "From a mathmatical standpoint this is all a graph is, a **vertex** set and an **edge** set"
   ]
  },
  {
   "cell_type": "markdown",
   "metadata": {},
   "source": [
    "We can visualise the graph by connecting the edges to the vertices. This can e done in any way as long as the correct edges are connected to the correct vertices. For example usoing $V$ and $E$ from above we get:\n",
    "\n",
    "<img src=\"img/g.png\" alt=\"graph 1 img\" width=600 />"
   ]
  }
 ],
 "metadata": {
  "language_info": {
   "name": "python"
  },
  "orig_nbformat": 4
 },
 "nbformat": 4,
 "nbformat_minor": 2
}
