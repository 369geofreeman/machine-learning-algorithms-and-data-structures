{
 "cells": [
  {
   "cell_type": "markdown",
   "metadata": {},
   "source": [
    "# Graph Theory\n",
    "\n",
    "- [Mathmatical Definition](#mathmatical-definition)\n",
    "- [Graph in Python](#graph-in-python)\n",
    "- [The Adjacency List](#the-adjacency-list)\n",
    "- [The Adjacency Matrix](#the-adjacency-matrix)\n",
    "\n",
    "\n",
    "<hr>"
   ]
  },
  {
   "cell_type": "markdown",
   "metadata": {},
   "source": [
    "# Mathmatical Definition\n",
    "\n",
    "In mathmatics a graph $G$ is a pair of two sets $(V, E)$. the set $V$ is called the **vertix** set, and the set $E$ is called the **edge** set.\n",
    "$$G = (V, E)$$\n",
    "\n",
    "Sets $V$ and $E$ and thought of as collections of objects\n",
    "\n",
    "The **verticies** of a graph can be any object we want, for exmple:\n",
    "- People in a social network\n",
    "- Items manufactured by a company\n",
    "- Mathmatical objects, like function\n",
    "- Python objects, like intigers or strings etc\n",
    "\n",
    "For the examples in this notebook we will take our **vertices** from the natural numbers including 0.<br>\n",
    "The **edge** set of a graph is made up of pairs of **vertices**<br>\n",
    "\n",
    "\n",
    "EXP:\n",
    "$$\n",
    "V = \\{0, 1, 2, 3\\}\n",
    "$$\n",
    "$$\n",
    "E = \\{(0, 1), (0, 2), (1, 3), (2, 3)\\}\n",
    "$$\n",
    "\n",
    "From a mathmatical standpoint this is all a graph is, a **vertex** set and an **edge** set"
   ]
  },
  {
   "cell_type": "markdown",
   "metadata": {},
   "source": [
    "We can visualise the graph by connecting the edges to the vertices. This can be done in any way as long as the correct edges are connected to the correct vertices. For example using $V$ and $E$ from above we get:\n",
    "\n",
    "<img src=\"img/g.png\" alt=\"graph 1 img\" width=600 />"
   ]
  },
  {
   "cell_type": "markdown",
   "metadata": {},
   "source": [
    "Graphs can also have two vertices sharing multiple edges between them. The verices $A$ and $B$ have two edges between them, the same for $A$ and $C$. A graph of this property is called a multi-graph:\n",
    "\n",
    "<img src=\"img/g1.png\" alt=\"graph 1 img\" width=200 />\n",
    "\n",
    "If we write out the vertex set $V$, and the edge set $E$ for the konigsberg graph, we get\n",
    "$$V = \\{A, B, C, D\\}$$\n",
    "$$E = \\{(A,B), (A, B), (A,C), (A,C), (B,D), (A,D), (C,D)\\}$$\n",
    "\n",
    "This is where we are stretching the idea of a set a little bit because we have two copies of the edge $(A,B)$ and two copies of the edge $(A,C)$. In a regular set we cant have two copies of the same object so a set like thi sis called a **Multi-Set**.\n",
    "\n",
    "\n",
    "In some cases a graph can have an edge between a vertex and itself. We call these edges **loops**, as seen below:\n",
    "\n",
    "<img src=\"img/g2.png\" alt=\"graph 2 img\" width=200 /> \n",
    "\n",
    "The vertex and edge sstes for this graph would be as follows:\n",
    "$$V = \\{0, 1, 2, 3\\}$$\n",
    "$$E = \\{(0,0), (0,1), (0,3), (1,3), (1,2), (2,3)\\}$$\n",
    "\n",
    "<hr>\n"
   ]
  },
  {
   "cell_type": "markdown",
   "metadata": {},
   "source": [
    "# Graph in Python\n",
    "\n",
    "We are going to build a graph that represents the konigsberg we saw earlier:\n",
    "\n",
    "<img src=\"img/g1.png\" alt=\"graph 1 img\" width=200 />\n",
    "\n",
    "For the implementation of our graph we will use `namedtuple` and 'nodes' instead of 'vertices' as it is more inlign with the vocabulary of computer science"
   ]
  },
  {
   "cell_type": "code",
   "execution_count": 1,
   "metadata": {},
   "outputs": [],
   "source": [
    "from collections import namedtuple\n",
    "\n",
    "Graph = namedtuple(\"Graph\", [\"nodes\", \"edges\"])"
   ]
  },
  {
   "cell_type": "markdown",
   "metadata": {},
   "source": [
    "The vertices of our konigsberg graph are representd in the list `nodes`<br>\n",
    "The edges in the konigsberg graph are represented in the list of tuples `edges` "
   ]
  },
  {
   "cell_type": "code",
   "execution_count": 2,
   "metadata": {},
   "outputs": [],
   "source": [
    "nodes = [\"A\", \"B\", \"C\", \"D\"]\n",
    "edges = [\n",
    "    (\"A\", \"B\"),\n",
    "    (\"A\", \"B\"),\n",
    "    (\"A\", \"C\"),\n",
    "    (\"A\", \"C\"),\n",
    "    (\"A\", \"D\"),\n",
    "    (\"B\", \"D\"),\n",
    "    (\"C\", \"D\"),\n",
    "]"
   ]
  },
  {
   "cell_type": "markdown",
   "metadata": {},
   "source": [
    "Now we build a graph datatype that is built of the vertices / nodes and edges"
   ]
  },
  {
   "cell_type": "code",
   "execution_count": 3,
   "metadata": {},
   "outputs": [],
   "source": [
    "G = Graph(nodes, edges)"
   ]
  },
  {
   "cell_type": "markdown",
   "metadata": {},
   "source": [
    "# The Adjacency List\n",
    "\n",
    "We can think of an adjancency list as a list of lists. Each list in this list of lists represents a single node in the graph. And the list corrisponding to each node lists all of the nodes that are adjacent to that node. By adjacent we mean connected to that node by an edge.\n",
    "\n",
    "For example in the konigsberg graph:\n",
    "- Node $A$ is adjacent to node $B$ two times because there are two edges connected from $A$ to $B$, so it will be listed in the adjacency list twice.<br>\n",
    "- $A$ is also adjacent to $C$ twice because there are two edges connected from $A$ to $C$, it's also adjacent to node $D$<br>\n",
    "- Node $B$ is adjacent to $A$ twice because there are two edges connected to $A$ and $B$ and it's also adjacent to node $D$<br>\n",
    "- Node $C$ is adjacent to $A$ twice and also adjacent to node $D$\n",
    "- Node $D$ is adjacent to node $A$, node $B$, and node $C$\n",
    "\n",
    "A more visually pleasing way to view this is:\n",
    "```\n",
    "A: B,B,C,C,D\n",
    "B: A,A,D\n",
    "C: A,A,D\n",
    "D: A,B,C\n",
    "```\n",
    "Which handily very similar to a python dictionary!"
   ]
  },
  {
   "cell_type": "markdown",
   "metadata": {},
   "source": [
    "Now we can write a function `adjacency_dict` that takes a graph instantiated using the graph nameedtupe we defined earlier, and return a adjacency list as a python dictionary"
   ]
  },
  {
   "cell_type": "code",
   "execution_count": 5,
   "metadata": {},
   "outputs": [
    {
     "data": {
      "text/plain": [
       "{'A': ['B', 'B', 'C', 'C', 'D'],\n",
       " 'B': ['A', 'A', 'D'],\n",
       " 'C': ['A', 'A', 'D'],\n",
       " 'D': ['A', 'B', 'C']}"
      ]
     },
     "execution_count": 5,
     "metadata": {},
     "output_type": "execute_result"
    }
   ],
   "source": [
    "def adjacency_dict(graph):\n",
    "    '''\n",
    "    Returns the adjacency list representation\n",
    "    of the graph\n",
    "    '''\n",
    "    \n",
    "    adj = {node: [] for node in graph.nodes}\n",
    "\n",
    "    for edge in graph.edges:\n",
    "        node1, node2 = edge[0], edge[1]\n",
    "        adj[node1].append(node2)\n",
    "        adj[node2].append(node1)\n",
    "    \n",
    "    return adj\n",
    "\n",
    "adjacency_dict(G)"
   ]
  },
  {
   "cell_type": "markdown",
   "metadata": {},
   "source": [
    "# The Adjacency Matrix\n",
    "\n",
    "The adjacency matric represents a graph as a matrix, or a 2 dimansional array. Each row and column of the matrix corrisponds to a node in the graph. We write the matrix as an array of numbers enclosed in two square brackets. The matrix has one row for each node in the graph, and one column for each node in the graph. At the intersection of a row and a column we record the number of edges between those two nodes.\n",
    "\n",
    "In the konigsberg graph, the row corrisponding to $B$ and the column corrisponding to $A$. We record the number of edges ofthiose two nodes. Since there are two edges connecting $A$ and $B$ in the graph, we will assign it as 2.\n",
    "\n",
    "The rest is a follows:\n",
    "\n",
    "```\n",
    "      A B C D\n",
    "    A 0 2 2 1\n",
    "    B 2 0 0 1\n",
    "    C 2 0 0 1\n",
    "    D 1 1 1 0\n",
    "```"
   ]
  },
  {
   "cell_type": "markdown",
   "metadata": {},
   "source": [
    "Now we can write a function that returns the adjacency matrix for a given graph"
   ]
  },
  {
   "cell_type": "code",
   "execution_count": 7,
   "metadata": {},
   "outputs": [],
   "source": [
    "def adjacency_matrix(graph):\n",
    "    '''\n",
    "    Return the adjacency matric for a graph\n",
    "\n",
    "    Assumes that graph.nodes is equivalent to range(len(graph.nodes))\n",
    "    '''\n",
    "\n",
    "    adj = [[0 for node in graph.nodes] for node in graph.nodes]\n",
    "\n",
    "    for edge in graph.edges:\n",
    "        node1, node2 = edge[0], edge[1]\n",
    "        adj[node1][node2] += 1\n",
    "        adj[node2][node1] += 1\n",
    "    \n",
    "    return adj\n"
   ]
  },
  {
   "cell_type": "markdown",
   "metadata": {},
   "source": [
    "To run this we will need to replace the `str` representing the vertices with `int`. we can do this as follows"
   ]
  },
  {
   "cell_type": "code",
   "execution_count": 8,
   "metadata": {},
   "outputs": [],
   "source": [
    "nodes = range(4)\n",
    "edges = [\n",
    "    (0, 1),\n",
    "    (0, 1),\n",
    "    (0, 2),\n",
    "    (0, 2),\n",
    "    (0, 3),\n",
    "    (1, 3),\n",
    "    (2, 3)\n",
    "]"
   ]
  },
  {
   "cell_type": "markdown",
   "metadata": {},
   "source": [
    "And then add them to our graph datatype and run `adjacency_matrix`"
   ]
  },
  {
   "cell_type": "code",
   "execution_count": 10,
   "metadata": {},
   "outputs": [
    {
     "name": "stdout",
     "output_type": "stream",
     "text": [
      "[0, 2, 2, 1]\n",
      "[2, 0, 0, 1]\n",
      "[2, 0, 0, 1]\n",
      "[1, 1, 1, 0]\n"
     ]
    }
   ],
   "source": [
    "G = Graph(nodes, edges)\n",
    "adj_m = adjacency_matrix(G)\n",
    "\n",
    "for row in adj_m:\n",
    "    print(row)"
   ]
  }
 ],
 "metadata": {
  "interpreter": {
   "hash": "aee8b7b246df8f9039afb4144a1f6fd8d2ca17a180786b69acc140d282b71a49"
  },
  "kernelspec": {
   "display_name": "Python 3.9.1 64-bit",
   "language": "python",
   "name": "python3"
  },
  "language_info": {
   "codemirror_mode": {
    "name": "ipython",
    "version": 3
   },
   "file_extension": ".py",
   "mimetype": "text/x-python",
   "name": "python",
   "nbconvert_exporter": "python",
   "pygments_lexer": "ipython3",
   "version": "3.9.1"
  },
  "orig_nbformat": 4
 },
 "nbformat": 4,
 "nbformat_minor": 2
}
