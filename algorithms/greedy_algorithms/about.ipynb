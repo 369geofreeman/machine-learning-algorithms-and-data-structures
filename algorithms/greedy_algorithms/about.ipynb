{
 "cells": [
  {
   "cell_type": "markdown",
   "metadata": {},
   "source": [
    "# Greedy Algorithms\n",
    "\n",
    "- [Intro](#intro)\n",
    "- [Drawbacks](#drawbacks)\n",
    "- [Advantages](#Advantages)\n",
    "- [Code Example](#code-example)"
   ]
  },
  {
   "cell_type": "markdown",
   "metadata": {},
   "source": [
    "---\n",
    "\n",
    "### Intro\n",
    "\n",
    "A greedy algorithm is an approach to solving a problem by selecting the best option avaliable at the moment rather than worrying about the overall optimal result.<br>\n",
    "Because of this the a;gorithm will never back-track or reverse even if it wrong.<br>\n",
    "This makes a greedy algorithm a *Top down approach* \n",
    "\n",
    "Despite this a greedy algorithm does still have some use cases. But forst we will explore who it can not be the best choice of algorithm"
   ]
  },
  {
   "cell_type": "markdown",
   "metadata": {},
   "source": [
    "---\n",
    "### Drawbacks\n",
    "\n",
    "A major disadvantage of the greedy algorithm is it will not always produce the optimal results.\n",
    "\n",
    "For example, say we want to find the largets path from root to leaf in the image below.\n",
    "\n",
    "<img src=\"img/greedy_approach_na.webp\" alt=\"greedy img1\" width=500 />"
   ]
  },
  {
   "cell_type": "markdown",
   "metadata": {},
   "source": [
    "**The greedy approach to solving this would be as follows**\n",
    "\n",
    "- Start at the root: 20\n",
    "- Select the maximum node of the two brances: 3\n",
    "- On the final brance the node is: 1\n",
    "\n",
    "This gives us the total of (20 + 3 + 1) = 24\n",
    "\n",
    "obviously this is not the optimal outcome because if we were to have take the node of 2 on the second level, and then the 10 following that we would have got the result of 32, which is the optimal outcome as seen in the image below\n",
    "\n",
    "<img src=\"img/greedy_approach_longest.webp\" alt=\"greedy image 2\" width=500/>"
   ]
  },
  {
   "cell_type": "markdown",
   "metadata": {},
   "source": [
    "---\n",
    "\n",
    "# Advantages\n",
    "\n",
    "Some advantages of a greedy algorithm are:\n",
    "\n",
    "- The algorithm is easier to describe.\n",
    "- This algorithm can perform better than other algorithms (but, not in all cases)."
   ]
  },
  {
   "cell_type": "markdown",
   "metadata": {},
   "source": [
    "**Greedy Choice Property**\n",
    "\n",
    "If an optimal solution to the problem can be found by choosing the best choice at each step without reconsidering the previous steps once chosen, the problem can be solved using a greedy approach. This property is called greedy choice property.\n",
    "\n",
    "**Optimal Substructure**\n",
    "\n",
    "If the optimal overall solution to the problem corresponds to the optimal solution to its subproblems, then the problem can be solved using a greedy approach. This property is called optimal substructure."
   ]
  },
  {
   "cell_type": "markdown",
   "metadata": {},
   "source": [
    "---\n",
    "# Code Example\n",
    "\n",
    "### Problem\n",
    "\n",
    "You have to make a change of an amount using the smallest possible number of coins.\n",
    "\n",
    "Amount: $18\n",
    "\n",
    "The available coins are\n",
    "- $5 coin\n",
    "- $2 coin\n",
    "- $1 coin\n",
    "There is no limit to the number of each coin you can use."
   ]
  },
  {
   "cell_type": "code",
   "execution_count": 8,
   "metadata": {},
   "outputs": [
    {
     "name": "stdout",
     "output_type": "stream",
     "text": [
      "The change required to make 18 is:\n",
      "$5.00 $5.00 $5.00 $2.00 $1.00 "
     ]
    }
   ],
   "source": [
    "def make_change(amount, coins):\n",
    "    ret = []\n",
    "    coins.sort()\n",
    "    n = len(coins)-1\n",
    "    curr_coin = coins[n]\n",
    "\n",
    "    while amount > 0:\n",
    "        if curr_coin > amount:\n",
    "            n -= 1\n",
    "            curr_coin = coins[n]\n",
    "        ret.append(curr_coin)\n",
    "        amount -= curr_coin\n",
    "    \n",
    "    return ret\n",
    "\n",
    "\n",
    "amount = 18\n",
    "aval_coins = [5, 2, 1]\n",
    "change = make_change(amount, aval_coins)\n",
    "\n",
    "print(f\"The change required to make {amount} is:\")\n",
    "for coin in change:\n",
    "    print(f\"${coin:,.2f}\", end=\" \")"
   ]
  }
 ],
 "metadata": {
  "interpreter": {
   "hash": "aee8b7b246df8f9039afb4144a1f6fd8d2ca17a180786b69acc140d282b71a49"
  },
  "kernelspec": {
   "display_name": "Python 3.9.1 64-bit",
   "language": "python",
   "name": "python3"
  },
  "language_info": {
   "codemirror_mode": {
    "name": "ipython",
    "version": 3
   },
   "file_extension": ".py",
   "mimetype": "text/x-python",
   "name": "python",
   "nbconvert_exporter": "python",
   "pygments_lexer": "ipython3",
   "version": "3.9.1"
  },
  "orig_nbformat": 4
 },
 "nbformat": 4,
 "nbformat_minor": 2
}
