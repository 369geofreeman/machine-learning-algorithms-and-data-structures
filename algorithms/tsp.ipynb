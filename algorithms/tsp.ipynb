{
 "cells": [
  {
   "cell_type": "markdown",
   "metadata": {},
   "source": [
    "# The Traveling Salesman Problem\n",
    "\n",
    "\n",
    "Given a graph of nodes that represent cities, whats the fastest way for a salesman to travel between every city and return home.\n",
    "\n",
    "This is an optimisation problem.\n",
    "\n",
    "- [A simple approach](#a-simple-approach)\n",
    "- [Using Dynamic Programming](#using-dynamic-programming)\n",
    "- [Greedy Approach](#greedy-approach)\n",
    "\n",
    "\n",
    "---"
   ]
  },
  {
   "cell_type": "markdown",
   "metadata": {},
   "source": [
    "## A simple approach\n",
    "\n",
    "Consider city 1 as the starting and ending point. Since the route is cyclic, we can consider any point as a starting point.\n",
    "We will generate all possible permutations of cities which are $(n-1)!$.<br>\n",
    "Find the cost of each permutation and keep track of the minimum cost permutation and then return the permutation with minimum cost."
   ]
  },
  {
   "cell_type": "code",
   "execution_count": 7,
   "metadata": {},
   "outputs": [
    {
     "name": "stdout",
     "output_type": "stream",
     "text": [
      "The minumum path is 80\n"
     ]
    }
   ],
   "source": [
    "from sys import maxsize\n",
    "from itertools import permutations\n",
    "V = 4\n",
    "\n",
    "def travellingSalesmanProblem(graph, s):\n",
    "\tvertex = []\n",
    "\tfor i in range(V):\n",
    "\t\tif i != s:\n",
    "\t\t\tvertex.append(i)\n",
    "\n",
    "\tmin_path = maxsize\n",
    "\tnext_permutation=permutations(vertex)\n",
    "\tfor i in next_permutation:\n",
    "\t\tcurrent_pathweight = 0\n",
    "\t\tk = s\n",
    "\t\tfor j in i:\n",
    "\t\t\tcurrent_pathweight += graph[k][j]\n",
    "\t\t\tk = j\n",
    "\t\tcurrent_pathweight += graph[k][s]\n",
    "\t\tmin_path = min(min_path, current_pathweight)\n",
    "\t\t\n",
    "\treturn \"The minumum path is {min_path}\"\n",
    "\n",
    "\n",
    "graph = [[0, 10, 15, 20], [10, 0, 35, 25],\n",
    "        [15, 35, 0, 30], [20, 25, 30, 0]]\n",
    "s = 0\n",
    "print(travellingSalesmanProblem(graph, s))"
   ]
  },
  {
   "cell_type": "markdown",
   "metadata": {},
   "source": [
    "---\n",
    "\n",
    "# Using Dynamic Programming\n",
    "\n",
    "We take a subset $N$ of the required cities that need to be visited, the distance among the cities `dist`, and starting city $s$ as inputs. Each city is identified by a unique city id which we say like $1,2,3,4,5………n$\n",
    "\n",
    "Here we use a dynamic approach to calculate the cost function `Cost()`. Using recursive calls, we calculate the cost function for each subset of the original problem.\n",
    "\n",
    "To calculate the `cost(i)` using Dynamic Programming, we need to have some recursive relation in terms of sub-problems.\n",
    "\n",
    "We start with all subsets of size $2$ and calculate $C(S, i)$ for all subsets where $S$ is the subset, then we calculate $C(S, i)$ for all subsets $S$ of size $3$ and so on.\n",
    "\n",
    "There are at most $O(n2^n)$ subproblems, and each one takes linear time to solve. The total running time is, therefore, $O(n^22^n)$. The time complexity is much less than $O(n!)$ but still exponential. The space required is also exponential.\n",
    "\n"
   ]
  },
  {
   "cell_type": "code",
   "execution_count": 11,
   "metadata": {},
   "outputs": [
    {
     "name": "stdout",
     "output_type": "stream",
     "text": [
      "The minimum  distance is 80\n"
     ]
    }
   ],
   "source": [
    "MAX = 999999\n",
    "\n",
    "def TSP(mask, pos, graph, dp,n, visited):\n",
    "\tif mask == visited:\n",
    "\t\treturn graph[pos][0]\n",
    "\n",
    "\tif dp[mask][pos] != -1:\n",
    "\t\treturn dp[mask][pos]\n",
    "\t\n",
    "\tans = MAX \n",
    "\tfor city in range(0, n):\n",
    "\t\tif ((mask & (1 << city)) == 0):\n",
    "\t\t\tnew = graph[pos][city] + TSP(mask|(1<<city),city, graph, dp, n, visited)\n",
    "\t\t\tans = min(ans, new)\n",
    "\t\n",
    "\tdp[mask][pos]=ans\n",
    "\n",
    "\treturn dp[mask][pos]\n",
    "\n",
    "\n",
    "\n",
    "\n",
    "graph = [[0, 10, 15, 20], [10, 0, 35, 25],\n",
    "\t\t[15, 35, 0, 30], [20, 25, 30, 0]]\n",
    "n = 4\n",
    "visited = (1 << n) - 1\n",
    "r,c=16,4\n",
    "dp=[[-1 for j in range(c)]for i in range(r)]\n",
    "\n",
    "for i in range(0, (1<<n)):\n",
    "\tfor j in range(0, n):\n",
    "\t\tdp[i][j] = -1\n",
    "\n",
    "print(f\"The minimum distance is {TSP(1, 0,graph, dp, n, visited)}\")"
   ]
  },
  {
   "cell_type": "markdown",
   "metadata": {},
   "source": [
    "---\n",
    "\n",
    "# Greedy Approach\n",
    "\n",
    "First of all, we have to create two primary data holders.\n",
    "the first of them is a list that can hold the indices of the cities in terms of the input matrix of distances between cities and the Second one is the array which is our result.\n",
    "\n",
    "Perform traversal on the given adjacency matrix `tsp[][]` for all the cities and if the cost of reaching any city from the current city is less than the current cost, then update the cost.\n",
    "\n",
    "Generate the minimum path cycle using the above step and return their minimum cost."
   ]
  },
  {
   "cell_type": "code",
   "execution_count": 14,
   "metadata": {},
   "outputs": [
    {
     "name": "stdout",
     "output_type": "stream",
     "text": [
      "The minimum distance is 80\n"
     ]
    }
   ],
   "source": [
    "def findMinRoute(tsp):\n",
    "    sum = 0\n",
    "    counter = 0\n",
    "    i = 0\n",
    "    j = 0\n",
    "    mn = 999999999\n",
    "    visitedRouteList = {}\n",
    "    visitedRouteList[0] = 1\n",
    "    route = [0] *len(tsp)\n",
    "    while i < len(tsp) and j < len(tsp[i]):\n",
    "        if counter >= len(tsp[i]) - 1:\n",
    "            break\n",
    "        if j!=i and j not in visitedRouteList:\n",
    "            if tsp[i][j] < mn:\n",
    "                mn = tsp[i][j]\n",
    "                route[counter] = j + 1\n",
    "        j += 1\n",
    "        if j == len(tsp[i]):\n",
    "            sum += mn \n",
    "            mn = 999999999 \n",
    "            visitedRouteList[route[counter] - 1] = 1 \n",
    "            j = 0 \n",
    "            i = route[counter] - 1 \n",
    "            counter += 1\n",
    "    \n",
    "    i = route[counter - 1] - 1 \n",
    "    for  j in range(0, len(tsp)):\n",
    "        if i != j and tsp[i][j] < mn:\n",
    "            mn = tsp[i][j]\n",
    "            route[counter] = j + 1 \n",
    "        \n",
    "    sum += mn \n",
    "    print(f\"The minimum distance is {sum}\")\n",
    "    \n",
    "tsp =  [[-1, 10, 15, 20], [10, -1, 35, 25],\n",
    "\t\t[15, 35, -1, 30], [20, 25, 30, -1]]\n",
    "\n",
    "findMinRoute(tsp)"
   ]
  }
 ],
 "metadata": {
  "interpreter": {
   "hash": "aee8b7b246df8f9039afb4144a1f6fd8d2ca17a180786b69acc140d282b71a49"
  },
  "kernelspec": {
   "display_name": "Python 3.9.1 64-bit",
   "language": "python",
   "name": "python3"
  },
  "language_info": {
   "codemirror_mode": {
    "name": "ipython",
    "version": 3
   },
   "file_extension": ".py",
   "mimetype": "text/x-python",
   "name": "python",
   "nbconvert_exporter": "python",
   "pygments_lexer": "ipython3",
   "version": "3.9.1"
  },
  "orig_nbformat": 4
 },
 "nbformat": 4,
 "nbformat_minor": 2
}
