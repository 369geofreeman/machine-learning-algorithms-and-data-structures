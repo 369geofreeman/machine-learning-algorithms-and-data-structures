{
 "cells": [
  {
   "cell_type": "markdown",
   "metadata": {},
   "source": [
    "# knapsack Problem\n",
    "\n",
    "### Problem\n",
    "Given weights and values of $n$ items, put these items in a knapsack of capacity $W$ to get the maximum total value in the knapsack.\n",
    "\n",
    "For example, if we are given the values:\n",
    "$$values = \\{60, 100, 120\\}$$\n",
    "and the wights of those items:\n",
    "$$Weights = \\{10, 20, 30\\}$$\n",
    "with a capacity variable:\n",
    "$$W = 50$$\n",
    "\n",
    "We will want to get the largest value of summed $values$ where the $weights$ summed are smaller than or equal to the capacity $W$\n",
    "\n",
    "In the case above we have:\n",
    "$$weight 10; value 60$$\n",
    "$$weight 20; value 100$$\n",
    "$$weight 30; value 120$$\n",
    "\n",
    "So we can add (20+30) as they hold thie biggest values and together equal the target $W$ of 50. And their respected values will sum as (100+120) giving us the final total and answer of 120.\n",
    "\n",
    "This is a good example of an optimisation problem\n",
    "\n",
    "If we were to try every combination, otherwise known as a brute force solution, the run time would be O(n^n). An exponential algorithm\n",
    "\n",
    "We would prefer a polynomial time algorithm where $n$ is multiplied by somehting or raised to a constant value: O(n^2), O(2n) for example."
   ]
  },
  {
   "cell_type": "markdown",
   "metadata": {},
   "source": [
    "# Code"
   ]
  },
  {
   "cell_type": "code",
   "execution_count": 1,
   "metadata": {},
   "outputs": [],
   "source": [
    "def knapSack(W, wt, val, n):\n",
    " \n",
    "    # Base Case\n",
    "    if n == 0 or W == 0:\n",
    "        return 0\n",
    " \n",
    "    # If weight of the nth item is\n",
    "    # more than Knapsack of capacity W,\n",
    "    # then this item cannot be included\n",
    "    # in the optimal solution\n",
    "    if (wt[n-1] > W):\n",
    "        return knapSack(W, wt, val, n-1)\n",
    " \n",
    "    # return the maximum of two cases:\n",
    "    # (1) nth item included\n",
    "    # (2) not included\n",
    "    else:\n",
    "        return max(\n",
    "            val[n-1] + knapSack(\n",
    "                W-wt[n-1], wt, val, n-1),\n",
    "            knapSack(W, wt, val, n-1))"
   ]
  },
  {
   "cell_type": "code",
   "execution_count": 2,
   "metadata": {},
   "outputs": [
    {
     "name": "stdout",
     "output_type": "stream",
     "text": [
      "220\n"
     ]
    }
   ],
   "source": [
    "val = [60, 100, 120]\n",
    "wt = [10, 20, 30]\n",
    "W = 50\n",
    "n = len(val)\n",
    "print(knapSack(W, wt, val, n))"
   ]
  }
 ],
 "metadata": {
  "interpreter": {
   "hash": "aee8b7b246df8f9039afb4144a1f6fd8d2ca17a180786b69acc140d282b71a49"
  },
  "kernelspec": {
   "display_name": "Python 3.9.1 64-bit",
   "language": "python",
   "name": "python3"
  },
  "language_info": {
   "codemirror_mode": {
    "name": "ipython",
    "version": 3
   },
   "file_extension": ".py",
   "mimetype": "text/x-python",
   "name": "python",
   "nbconvert_exporter": "python",
   "pygments_lexer": "ipython3",
   "version": "3.9.1"
  },
  "orig_nbformat": 4
 },
 "nbformat": 4,
 "nbformat_minor": 2
}
