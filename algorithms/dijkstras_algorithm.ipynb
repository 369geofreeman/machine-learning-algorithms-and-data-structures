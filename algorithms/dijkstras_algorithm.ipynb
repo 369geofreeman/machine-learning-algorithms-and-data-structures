{
 "cells": [
  {
   "cell_type": "markdown",
   "metadata": {},
   "source": [
    "# Dijkstras Algorithm\n",
    "\n",
    "- [Problem Setting](#problem-setting)\n",
    "- [Step-by-Step Explanation](#step-by-step-explanation)\n",
    "- [Algorithm in Python](#algorithm-in-python)\n",
    "- [The Algorithm in Action](#the-algorithm-in-action)\n",
    "\n",
    "\n",
    "Dijkstra’s algorithm is a popular search algorithm used to determine the shortest path between two nodes in a graph.<br>\n",
    "This algorithm can be applied to any problem that can be represented as a graph, such as but not limited to:\n",
    "- Friend suggestions on social media\n",
    "- routing packets over the internet\n",
    "- finding a way through a maze\n",
    "etc\n",
    "\n",
    "The basic runtime of  Dijkstras Algorithm is **O(|V|^2)** (the numer of vertices squared). the worst case we visit every node and in the graph once or twice, and everytime we visit we searc through the queue to find the minimum element.\n",
    "\n",
    "<hr>"
   ]
  },
  {
   "cell_type": "markdown",
   "metadata": {},
   "source": [
    "# Problem Setting\n",
    "\n",
    "The example we’ll use in this notebook for simplicity wull be classic problem of: The shortest path between two cities.<br>\n",
    "The two cites we will use will be the European cities of Reykjavik and Belgrade.\n",
    "\n",
    "- Each city is represented as a node.\n",
    "- Each road is represented as an edge.\n",
    "- Each road has an associated value. A value could be the distance between cities, a highway toll, or the amount of traffic. Generally, we’ll favor edges with lower values. In our specific case, the associated value is defined by the distance between two cities.\n",
    "\n",
    "Obviously we cannot access Belgrade from Reykjavik directly, as this would make the problem quite pointless, so there will be several paths that link them:\n",
    "\n",
    "- Reykjavik –> Oslo –> Berlin –> Belgrade\n",
    "- Reykjavik –> London –> Berlin –> Rome –> Athens –> Belgrade\n",
    "- Reykjavik –> London –> Berlin –> Rome –> Athens –> Moscow –> Belgrade\n",
    "\n",
    "Each of these paths end in Belgrade, but they all have different values. We can use Dijkstra’s algorithm to find the path with the lowest total value.\n",
    "\n",
    "<hr>"
   ]
  },
  {
   "cell_type": "markdown",
   "metadata": {},
   "source": [
    "# Step-by-Step Explanation\n",
    "\n",
    "First, we initialize the algorithm:\n",
    "\n",
    "- We set Reykjavik as the starting node.\n",
    "- We set the distances between Reykjavik and all other cities to infinity, except for the distance between Reykjavik and itself, which we set to 0.\n",
    "\n",
    "After that, we iteratively execute the following steps:\n",
    "\n",
    "- We choose the node with the smallest value as the “current node” and visit all of its neighboring nodes. As we visit each neighbor, we update their tentative distance from the starting node.\n",
    "- Once we visit all of the current node’s neighbors and update their distances, we mark the current node as “visited.” Marking a node as “visited” means that we’ve arrived at its final cost.\n",
    "- We go back to step one. The algorithm loops until it visits all the nodes in the graph. \n",
    "\n",
    "In this example, we start by marking Reykjavik as the “current node” since its value is 0. We proceed by visiting Reykjavik’s two neighboring nodes: London and Oslo. At the beginning of the algorithm, their values are set to infinity, but as we visit the nodes, we update the value for London to 4, and Oslo to 5.\n",
    "\n",
    "We then mark Reykjavik as “visited.” We know that its final cost is zero, and we don’t need to visit it again. We continue with the next node with the lowest value, which is London.\n",
    "\n",
    "We visit all of London’s neighboring nodes which we haven’t marked as “visited.” London’s neighbors are Reykjavik and Berlin, but we ignore Reykjavik because we’ve already visited it. Instead, we update Berlin’s value by adding the value of the edge connecting London and Berlin (3) to the value of London (4), which gives us a value of 7.\n",
    "\n",
    "\n",
    "We mark London as visited and choose the next node: Oslo. We visit Oslo’s neighbors and update their values. It turns out that we can better reach Berlin through Oslo (with a value of 6) than through London, so we update its value accordingly. We also update the current value of Moscow from infinity to 8.\n",
    "\n",
    "\n",
    "We mark Oslo as “visited” and update its final value to 5. Between Berlin and Moscow, we choose Berlin as the next node because its value (6) is lower than Moscow’s (8). We proceed as before: We visit Rome and Belgrade and update their tentative values, before marking Berlin as “visited” and moving on to the next city.\n",
    "\n",
    "\n",
    "Note that we’ve already found a path from Reykjavik to Belgrade with a value of 15! But is it the best one?\n",
    "\n",
    "\n",
    "Ultimately, it’s not. We’ll skip the rest of the steps, but you get the drill. The best path turns out to be Reykjavik –> Oslo –> Berlin –> Rome –> Athens –> Belgrade, with a value of 11.\n",
    "\n",
    "<hr>"
   ]
  },
  {
   "cell_type": "markdown",
   "metadata": {},
   "source": [
    "# Algorithm in Python\n",
    "\n",
    "First, we’ll create the Graph `class`. We’ll implement the graph as a Python `dictionary`. The dictionary’s keys will correspond to the cities and its values will correspond to dictionaries that record the distances to other cities in the graph. "
   ]
  },
  {
   "cell_type": "code",
   "execution_count": 1,
   "metadata": {},
   "outputs": [],
   "source": [
    "import sys\n",
    " \n",
    "class Graph(object):\n",
    "    def __init__(self, nodes, init_graph):\n",
    "        self.nodes = nodes\n",
    "        self.graph = self.construct_graph(nodes, init_graph)\n",
    "        \n",
    "    def construct_graph(self, nodes, init_graph):\n",
    "        \"\"\"\n",
    "        This method makes sure that the graph is symmetrical. In other words,\n",
    "        if there's a path from node A to B with a value V, there needs to be a\n",
    "        path from node B to node A with a value V.\n",
    "        \"\"\"\n",
    "        graph = {}\n",
    "        for node in nodes:\n",
    "            graph[node] = {}\n",
    "\n",
    "        graph.update(init_graph)\n",
    "\n",
    "        for node, edges in graph.items():\n",
    "            for adjacent_node, value in edges.items():\n",
    "                if graph[adjacent_node].get(node, False) == False:\n",
    "                    graph[adjacent_node][node] = value\n",
    "        \n",
    "        return graph\n",
    "    \n",
    "    def get_nodes(self):\n",
    "        \"Returns the nodes of the graph.\"\n",
    "        return self.nodes\n",
    "\n",
    "    def get_outgoing_edges(self, node):\n",
    "        \"Returns the neighbors of a node.\"\n",
    "        connections = []\n",
    "        for out_node in self.nodes:\n",
    "            if self.graph[node].get(out_node, False) != False:\n",
    "                connections.append(out_node)\n",
    "        return connections\n",
    "\n",
    "    def value(self, node1, node2):\n",
    "        \"Returns the value of an edge between two nodes.\"\n",
    "        return self.graph[node1][node2]"
   ]
  },
  {
   "cell_type": "markdown",
   "metadata": {},
   "source": [
    "Now we will implement the Dijkstra algorithm. We’ll start by defining the function.\n",
    "\n",
    "We can start by defining the function `def dijkstra_algorithm(graph, start_node)`<br>\n",
    "This function takes two arguments: `graph` and `start_node`. graph is an instance of the Graph class that we created in the previous step, whereas start_node is the node from which we’ll start the calculations. We’ll call the `get_nodes()` method to initialize the list of unvisited nodes:<br> `unvisited_nodes = list(graph.get_nodes())`"
   ]
  },
  {
   "cell_type": "markdown",
   "metadata": {},
   "source": [
    "Next, we’ll create two dicts, `shortest_path` and `previous_nodes`:\n",
    "\n",
    "- `shortest_path` will store the best-known cost of visiting each city in the graph starting from the start_node. In the beginning, the cost starts at infinity, but we’ll update the values as we move along the graph.\n",
    "- `previous_nodes` will store the trajectory of the current best known path for each node. For example, if we know the best way to Berlin to be via Oslo, `previous_nodes[\"Berlin\"]` will return “Oslo”, and `previous_nodes[\"Oslo\"]` will return “Reykjavik.” We’ll use this dictionary to backtrace the shortest path.\n"
   ]
  },
  {
   "cell_type": "markdown",
   "metadata": {},
   "source": [
    "Now we can start the algorithm. Remember that Dijkstra’s algorithm executes until it visits all the nodes in a graph, so we’ll represent this as a condition for exiting the while-loop.\n",
    "\n",
    "`while unvisited_nodes:`\n",
    "\n",
    "Now, the algorithm can start visiting the nodes. The code block below first instructs the algorithm to find the node with the lowest value. "
   ]
  },
  {
   "cell_type": "markdown",
   "metadata": {},
   "source": [
    "Once that’s done, the algorithm visits all node’s neighbors that are still unvisited. If the new path to the neighbor is better than the current best path, the algorithm makes adjustments in the shortest_path and previous_nodes dictionaries."
   ]
  },
  {
   "cell_type": "markdown",
   "metadata": {},
   "source": [
    "After visiting all of its neighbors, we can mark the current node as “visited”:\n",
    "\n",
    "`unvisited_nodes.remove(current_min_node)`\n",
    "\n",
    "At last, we can return the two dictionaries:    \n",
    "\n",
    "`return previous_nodes, shortest_path`"
   ]
  },
  {
   "cell_type": "code",
   "execution_count": 2,
   "metadata": {},
   "outputs": [],
   "source": [
    "def dijkstra_algorithm(graph, start_node):\n",
    "    \n",
    "    # Initializr the list of unvisited nodes\n",
    "    unvisited_nodes = list(graph.get_nodes())\n",
    "    \n",
    "    \"\"\"\n",
    "    Create two dicts:\n",
    "    \n",
    "    1- shortest_path store the best-known cost of visiting each city in the graph \n",
    "    starting from the start_node. In the beginning the cost starts at infinity,\n",
    "    and values are updated later\n",
    "    \n",
    "    2- previous_node store the trajectory of the current best known path for each\n",
    "    node. \n",
    "    \"\"\"\n",
    "    shortest_path = {}\n",
    "    previous_nodes = {}\n",
    "    # We'll use max_value to initialize the \"infinity\" value of the unvisited nodes\n",
    "    max_value = sys.maxsize\n",
    "    for node in unvisited_nodes:\n",
    "        shortest_path[node] = max_value\n",
    "    # However, we initialize the starting node's value with 0\n",
    "    shortest_path[start_node] = 0\n",
    "\n",
    "    # Dijkstra executes until it visits all the nodes in a graph, so we use while-loop\n",
    "    while unvisited_nodes:\n",
    "        \n",
    "        # this block instructs the algorithm to find the node with the lowest value\n",
    "        current_min_node = None\n",
    "        for node in unvisited_nodes: #iterate over the nodes\n",
    "            # if the new path to the neighbor is better than current best, \n",
    "            # the algorithm makes the adjustments\n",
    "            if current_min_node == None:\n",
    "                current_min_node = node\n",
    "            elif shortest_path[node] < shortest_path[current_min_node]:\n",
    "                current_min_node = node\n",
    "        \n",
    "        # this code block retrieves the current node's neighbors and updates the \n",
    "        # distances\n",
    "        neighbors = graph.get_outgoing_edges(current_min_node)\n",
    "        for neighbor in neighbors:\n",
    "            tentative_value = shortest_path[current_min_node] + graph.value(current_min_node, neighbor)\n",
    "            if tentative_value < shortest_path[neighbor]:\n",
    "                shortest_path[neighbor] = tentative_value\n",
    "                # we also update teh best path to the current node\n",
    "                previous_nodes[neighbor] = current_min_node\n",
    "        \n",
    "        unvisited_nodes.remove(current_min_node)\n",
    "        \n",
    "    # return the two dictionaries\n",
    "    return previous_nodes, shortest_path"
   ]
  },
  {
   "cell_type": "markdown",
   "metadata": {},
   "source": [
    "Lastly, we need to create a function that prints out the results. This function will take the two dictionaries returned by the dijskstra_algorithm function, as well as the names of the beginning and target nodes. It’ll use the two dictionaries to find the best path and calculate the path’s score."
   ]
  },
  {
   "cell_type": "code",
   "execution_count": 3,
   "metadata": {},
   "outputs": [],
   "source": [
    "def print_result(previous_nodes, shortest_path, start_node, target_node):\n",
    "    path = []\n",
    "    node = target_node\n",
    "\n",
    "    while node != start_node:\n",
    "        path.append(node)\n",
    "        node = previous_nodes[node]\n",
    "\n",
    "    # Add the start node manually\n",
    "    path.append(start_node)\n",
    "\n",
    "    print(\"We found the following best path with a value of {}.\".format(shortest_path[target_node]))\n",
    "    print(\" -> \".join(reversed(path)))"
   ]
  },
  {
   "cell_type": "markdown",
   "metadata": {},
   "source": [
    "# The Algorithm in Action\n",
    "\n",
    "Now, let’s see the algorithm in action. We’ll manually initialize the nodes and their edges."
   ]
  },
  {
   "cell_type": "code",
   "execution_count": 4,
   "metadata": {},
   "outputs": [],
   "source": [
    "nodes = [\"Reykjavik\", \"Oslo\", \"Moscow\", \"London\", \"Rome\", \"Berlin\", \"Belgrade\", \"Athens\"]\n",
    "\n",
    "init_graph = {}\n",
    "for node in nodes:\n",
    "    init_graph[node] = {}\n",
    "\n",
    "init_graph[\"Reykjavik\"][\"Oslo\"] = 5\n",
    "init_graph[\"Reykjavik\"][\"London\"] = 4\n",
    "init_graph[\"Oslo\"][\"Berlin\"] = 1\n",
    "init_graph[\"Oslo\"][\"Moscow\"] = 3\n",
    "init_graph[\"Moscow\"][\"Belgrade\"] = 5\n",
    "init_graph[\"Moscow\"][\"Athens\"] = 4\n",
    "init_graph[\"Athens\"][\"Belgrade\"] = 1\n",
    "init_graph[\"Rome\"][\"Berlin\"] = 2\n",
    "init_graph[\"Rome\"][\"Athens\"] = 2"
   ]
  },
  {
   "cell_type": "markdown",
   "metadata": {},
   "source": [
    "We’ll use these values to create an object of the Graph class."
   ]
  },
  {
   "cell_type": "code",
   "execution_count": 5,
   "metadata": {},
   "outputs": [],
   "source": [
    "graph = Graph(nodes, init_graph)"
   ]
  },
  {
   "cell_type": "markdown",
   "metadata": {},
   "source": [
    "With our graph fully constructed, we can pass it to the `dijkstra_algorithm()` function."
   ]
  },
  {
   "cell_type": "code",
   "execution_count": 6,
   "metadata": {},
   "outputs": [],
   "source": [
    "previous_nodes, shortest_path = dijkstra_algorithm(graph=graph, start_node=\"Reykjavik\")"
   ]
  },
  {
   "cell_type": "markdown",
   "metadata": {},
   "source": [
    "And now let’s print out the results:"
   ]
  },
  {
   "cell_type": "code",
   "execution_count": 7,
   "metadata": {},
   "outputs": [
    {
     "name": "stdout",
     "output_type": "stream",
     "text": [
      "We found the following best path with a value of 11.\n",
      "Reykjavik -> Oslo -> Berlin -> Rome -> Athens -> Belgrade\n"
     ]
    }
   ],
   "source": [
    "\t\n",
    "print_result(previous_nodes, shortest_path, start_node=\"Reykjavik\", target_node=\"Belgrade\")"
   ]
  }
 ],
 "metadata": {
  "interpreter": {
   "hash": "aee8b7b246df8f9039afb4144a1f6fd8d2ca17a180786b69acc140d282b71a49"
  },
  "kernelspec": {
   "display_name": "Python 3.9.1 64-bit",
   "language": "python",
   "name": "python3"
  },
  "language_info": {
   "codemirror_mode": {
    "name": "ipython",
    "version": 3
   },
   "file_extension": ".py",
   "mimetype": "text/x-python",
   "name": "python",
   "nbconvert_exporter": "python",
   "pygments_lexer": "ipython3",
   "version": "3.9.1"
  },
  "orig_nbformat": 4
 },
 "nbformat": 4,
 "nbformat_minor": 2
}
